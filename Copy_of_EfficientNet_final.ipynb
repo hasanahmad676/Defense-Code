{
  "nbformat": 4,
  "nbformat_minor": 0,
  "metadata": {
    "colab": {
      "provenance": []
    },
    "kernelspec": {
      "name": "python3",
      "display_name": "Python 3"
    },
    "language_info": {
      "name": "python"
    }
  },
  "cells": [
    {
      "cell_type": "markdown",
      "source": [
        "# Accessing Dataset from Drive"
      ],
      "metadata": {
        "id": "tySZDWFg-EnK"
      }
    },
    {
      "cell_type": "code",
      "execution_count": null,
      "metadata": {
        "id": "YMVyum3W0Hyv",
        "colab": {
          "base_uri": "https://localhost:8080/"
        },
        "outputId": "9c5504f2-da05-4558-f88a-068bd06c7789"
      },
      "outputs": [
        {
          "output_type": "stream",
          "name": "stdout",
          "text": [
            "Drive already mounted at /content/drive; to attempt to forcibly remount, call drive.mount(\"/content/drive\", force_remount=True).\n"
          ]
        }
      ],
      "source": [
        "from google.colab import drive\n",
        "drive.mount('/content/drive')"
      ]
    },
    {
      "cell_type": "markdown",
      "source": [
        "# Installing Required Libraries"
      ],
      "metadata": {
        "id": "KQlKFZW0-Lhp"
      }
    },
    {
      "cell_type": "code",
      "source": [
        "!pip install  visualkeras\n",
        "!pip3 install ann_visualizer\n",
        "!pip install graphviz"
      ],
      "metadata": {
        "id": "-1m-P4qx02Ds",
        "colab": {
          "base_uri": "https://localhost:8080/"
        },
        "outputId": "bd6d722e-bbb5-4abe-b6df-87c7b69c94c2"
      },
      "execution_count": null,
      "outputs": [
        {
          "output_type": "stream",
          "name": "stdout",
          "text": [
            "Requirement already satisfied: visualkeras in /usr/local/lib/python3.10/dist-packages (0.0.2)\n",
            "Requirement already satisfied: pillow>=6.2.0 in /usr/local/lib/python3.10/dist-packages (from visualkeras) (9.4.0)\n",
            "Requirement already satisfied: numpy>=1.18.1 in /usr/local/lib/python3.10/dist-packages (from visualkeras) (1.23.5)\n",
            "Requirement already satisfied: aggdraw>=1.3.11 in /usr/local/lib/python3.10/dist-packages (from visualkeras) (1.3.18)\n",
            "Requirement already satisfied: ann_visualizer in /usr/local/lib/python3.10/dist-packages (2.5)\n",
            "Requirement already satisfied: graphviz in /usr/local/lib/python3.10/dist-packages (0.20.1)\n"
          ]
        }
      ]
    },
    {
      "cell_type": "markdown",
      "source": [
        "# LIBRARIES"
      ],
      "metadata": {
        "id": "Rz77qMIv_h5z"
      }
    },
    {
      "cell_type": "code",
      "source": [
        "from tensorflow.keras.preprocessing.image import ImageDataGenerator, img_to_array, load_img\n",
        "from tensorflow.keras.models import Sequential , Model\n",
        "from tensorflow.keras.layers import Activation, Dropout, Flatten, Dense, Conv2D, MaxPooling2D\n",
        "from tensorflow.keras.applications import EfficientNetB0\n",
        "import matplotlib.pyplot as plt\n",
        "from glob import glob\n",
        "import pandas as pd\n",
        "import numpy as np\n",
        "import seaborn as sns\n",
        "import matplotlib.pyplot as plt\n",
        "import warnings\n",
        "warnings.filterwarnings('ignore')\n",
        "from sklearn.metrics import classification_report, confusion_matrix\n",
        "import visualkeras\n",
        "import os\n",
        "from tqdm import tqdm\n",
        "import cv2\n",
        "from sklearn.utils import shuffle\n",
        "from sklearn.model_selection import train_test_split\n",
        "import tensorflow as tf\n",
        "from tensorflow.keras.callbacks import EarlyStopping, ReduceLROnPlateau, TensorBoard, ModelCheckpoint"
      ],
      "metadata": {
        "id": "o2NJZidT06kR"
      },
      "execution_count": null,
      "outputs": []
    },
    {
      "cell_type": "markdown",
      "source": [
        "# Data Preprocessing"
      ],
      "metadata": {
        "id": "y3695A4q_re9"
      }
    },
    {
      "cell_type": "code",
      "source": [
        "labels = ['Black Spot','Downy Mildew','Fresh Leaf']"
      ],
      "metadata": {
        "id": "7GiKvs4k1TEZ"
      },
      "execution_count": null,
      "outputs": []
    },
    {
      "cell_type": "code",
      "source": [
        "X_full = []\n",
        "y_full = []\n",
        "image_size = 224\n",
        "for i in labels:\n",
        "    folderPath = os.path.join('/content/drive/MyDrive/Data',i)\n",
        "    for j in tqdm(os.listdir(folderPath)):\n",
        "        img = cv2.imread(os.path.join(folderPath,j))\n",
        "        img = cv2.cvtColor(img,cv2.COLOR_BGR2RGB)\n",
        "        img = cv2.resize(img,(image_size, image_size))\n",
        "        X_full.append(img)\n",
        "        y_full.append(i)\n",
        "\n",
        "\n",
        "X_full = np.array(X_full)\n",
        "y_full = np.array(y_full)"
      ],
      "metadata": {
        "id": "IukwWdxy1Tux",
        "colab": {
          "base_uri": "https://localhost:8080/"
        },
        "outputId": "a09971f7-355a-40d5-d00f-955f1bd96e3f"
      },
      "execution_count": null,
      "outputs": [
        {
          "output_type": "stream",
          "name": "stderr",
          "text": [
            "100%|██████████| 10000/10000 [09:04<00:00, 18.38it/s]\n",
            "100%|██████████| 10000/10000 [05:43<00:00, 29.13it/s]\n",
            "100%|██████████| 10000/10000 [09:37<00:00, 17.30it/s]\n"
          ]
        }
      ]
    },
    {
      "cell_type": "markdown",
      "source": [
        "# Dividing the dataset as a Train & Test"
      ],
      "metadata": {
        "id": "myelrxA6_09-"
      }
    },
    {
      "cell_type": "code",
      "source": [
        "X_train,X_test,y_train,y_test = train_test_split(X_full,y_full, test_size=0.2,random_state=101)"
      ],
      "metadata": {
        "id": "fJEByaVm1Wjo"
      },
      "execution_count": null,
      "outputs": []
    },
    {
      "cell_type": "markdown",
      "source": [
        "# Performing One Hot Encoding on the labels after converting it into numerical values"
      ],
      "metadata": {
        "id": "lqlp-ZG__7ys"
      }
    },
    {
      "cell_type": "code",
      "source": [
        "y_train_new = []\n",
        "for i in y_train:\n",
        "    y_train_new.append(labels.index(i))\n",
        "y_train = y_train_new\n",
        "y_train = tf.keras.utils.to_categorical(y_train)\n",
        "\n",
        "\n",
        "y_test_new = []\n",
        "for i in y_test:\n",
        "    y_test_new.append(labels.index(i))\n",
        "y_test = y_test_new\n",
        "y_test = tf.keras.utils.to_categorical(y_test)"
      ],
      "metadata": {
        "id": "B2YW6Brb1bRw"
      },
      "execution_count": null,
      "outputs": []
    },
    {
      "cell_type": "markdown",
      "source": [
        "# efficientNet"
      ],
      "metadata": {
        "id": "16KF_GBfADUw"
      }
    },
    {
      "cell_type": "code",
      "source": [
        "efficientNet = tf.keras.applications.EfficientNetB0(\n",
        "    include_top=False,\n",
        "    weights = 'imagenet',\n",
        "    input_shape=(224,224,3),\n",
        "    )"
      ],
      "metadata": {
        "id": "Yeeq7_hkylHf"
      },
      "execution_count": null,
      "outputs": []
    },
    {
      "cell_type": "code",
      "source": [
        "efficientNet.trainable = False"
      ],
      "metadata": {
        "id": "0VwP-HK81fQI"
      },
      "execution_count": null,
      "outputs": []
    },
    {
      "cell_type": "code",
      "source": [
        "model = tf.keras.models.Sequential([\n",
        "  efficientNet,\n",
        "  tf.keras.layers.Flatten(),\n",
        "  tf.keras.layers.Dropout(0.8),\n",
        "  tf.keras.layers.Dense(units=1024, activation='relu'),\n",
        "  tf.keras.layers.Dense(units=512, activation='relu'),\n",
        "  tf.keras.layers.Dense(units=3, activation='softmax'),\n",
        "])"
      ],
      "metadata": {
        "id": "YWoKC-aN1f7a"
      },
      "execution_count": null,
      "outputs": []
    },
    {
      "cell_type": "markdown",
      "source": [
        "# Compiling the Model"
      ],
      "metadata": {
        "id": "rfY8xGHvDG5n"
      }
    },
    {
      "cell_type": "code",
      "source": [
        "model.compile(\n",
        "    optimizer = 'adam',\n",
        "    loss = 'categorical_crossentropy',\n",
        "    metrics = ['accuracy']\n",
        ")\n",
        "model.summary()"
      ],
      "metadata": {
        "id": "zJ4QrFNo1_gz"
      },
      "execution_count": null,
      "outputs": []
    },
    {
      "cell_type": "code",
      "source": [
        "tensorboard = TensorBoard(log_dir = 'logs')\n",
        "checkpoint = ModelCheckpoint(\"CovidModelEfficientNet.h5\",monitor=\"val_accuracy\",save_best_only=True,mode=\"auto\",verbose=1)\n",
        "reduce_lr = ReduceLROnPlateau(monitor = 'val_accuracy',\n",
        "                              factor = 0.3,\n",
        "                              patience = 2,\n",
        "                              min_delta = 0.001,\n",
        "                              mode='auto',verbose=1)"
      ],
      "metadata": {
        "id": "9jAqasny2EWM"
      },
      "execution_count": null,
      "outputs": []
    },
    {
      "cell_type": "markdown",
      "source": [
        "# Training the Model"
      ],
      "metadata": {
        "id": "L2JyBbHHDS3f"
      }
    },
    {
      "cell_type": "code",
      "source": [
        "hist = model.fit(X_train,\n",
        "                 y_train,\n",
        "                 validation_split=0.1,\n",
        "                 #epochs =15\n",
        "                 epochs =100,\n",
        "                 verbose=1,\n",
        "                 batch_size=32,\n",
        "                 #batch_size=16,\n",
        "                  callbacks=[tensorboard,checkpoint,reduce_lr]\n",
        "                 )"
      ],
      "metadata": {
        "id": "Pk7Fo6oA2Ix7"
      },
      "execution_count": null,
      "outputs": []
    },
    {
      "cell_type": "markdown",
      "source": [
        "# Accuracy of the Model"
      ],
      "metadata": {
        "id": "GxWhbeUUDZCZ"
      }
    },
    {
      "cell_type": "code",
      "source": [
        "results = model.evaluate(X_train,y_train)"
      ],
      "metadata": {
        "id": "htp2vdwX2MyC"
      },
      "execution_count": null,
      "outputs": []
    },
    {
      "cell_type": "code",
      "source": [
        "results2 = model.evaluate(X_test,y_test)"
      ],
      "metadata": {
        "id": "fSiHMG_z2Pzk"
      },
      "execution_count": null,
      "outputs": []
    },
    {
      "cell_type": "markdown",
      "source": [
        "# Visualize of the Graph"
      ],
      "metadata": {
        "id": "249zNhShDdcc"
      }
    },
    {
      "cell_type": "code",
      "source": [
        "print(hist.history.keys())"
      ],
      "metadata": {
        "id": "8xOt5m4w2RgM"
      },
      "execution_count": null,
      "outputs": []
    },
    {
      "cell_type": "code",
      "source": [
        "plt.figure(figsize=(15,10))\n",
        "plt.plot(hist.history[\"loss\"],label = \"training loss\")\n",
        "plt.plot(hist.history[\"val_loss\"],label = \"validation loss\")\n",
        "plt.title(\"Training Loss & Validation Loss\")\n",
        "plt.xlabel(\"Epoch\")\n",
        "plt.ylabel(\"Loss\")\n",
        "plt.legend()\n",
        "plt.show()\n",
        "\n",
        "plt.figure(figsize=(15,10))\n",
        "plt.plot(hist.history[\"accuracy\"],label = \"training acc\")\n",
        "plt.plot(hist.history[\"val_accuracy\"],label = \"validation acc\")\n",
        "plt.title(\"Training Accuracy & Validation Accuracy\")\n",
        "plt.xlabel(\"Epoch\")\n",
        "plt.ylabel(\"Accuracy\")\n",
        "plt.legend()\n",
        "plt.show()"
      ],
      "metadata": {
        "id": "ojkLA2QD2TkM"
      },
      "execution_count": null,
      "outputs": []
    },
    {
      "cell_type": "markdown",
      "source": [
        "# CLASSIFICATION REPORT"
      ],
      "metadata": {
        "id": "KsKddL4-DoaA"
      }
    },
    {
      "cell_type": "code",
      "source": [
        "pred = model.predict(X_test)\n",
        "pred = np.argmax(pred,axis=1)\n",
        "y_test_new = np.argmax(y_test,axis=1)"
      ],
      "metadata": {
        "id": "9L96zva82YxM"
      },
      "execution_count": null,
      "outputs": []
    },
    {
      "cell_type": "code",
      "source": [
        "print(classification_report(y_test_new,pred))"
      ],
      "metadata": {
        "id": "G0kObNu_2b5U"
      },
      "execution_count": null,
      "outputs": []
    },
    {
      "cell_type": "markdown",
      "source": [
        "# CONFUSION MATRIX"
      ],
      "metadata": {
        "id": "1Zdk93nTEGcg"
      }
    },
    {
      "cell_type": "code",
      "source": [
        "colors_dark = [\"#1F1F1F\", \"#313131\", '#636363', '#AEAEAE', '#DADADA']\n",
        "colors_red = [\"#331313\", \"#582626\", '#9E1717', '#D35151', '#E9B4B4']\n",
        "colors_green = ['#01411C','#4B6F44','#4F7942','#74C365','#D0F0C0']\n",
        "\n",
        "sns.palplot(colors_dark)\n",
        "sns.palplot(colors_green)\n",
        "sns.palplot(colors_red)"
      ],
      "metadata": {
        "id": "o3IPq2nI2en4"
      },
      "execution_count": null,
      "outputs": []
    },
    {
      "cell_type": "code",
      "source": [
        "fig,ax=plt.subplots(1,1,figsize=(14,7))\n",
        "\n",
        "sns.heatmap(confusion_matrix(y_test_new,pred),\n",
        "            ax=ax,\n",
        "            xticklabels=labels,\n",
        "            yticklabels=labels,\n",
        "            annot=True,\n",
        "            cmap=colors_green[::-1],\n",
        "            alpha=0.7,\n",
        "            linewidths=2,\n",
        "            linecolor=colors_dark[3]\n",
        "            )\n",
        "\n",
        "fig.text(s='Confusion Matrix',\n",
        "         size=18,\n",
        "         fontweight='bold',\n",
        "         fontname='monospace',\n",
        "         color=colors_dark[1],\n",
        "         y=0.92,\n",
        "         x=0.28,\n",
        "         alpha=0.8)\n",
        "print(confusion_matrix(y_test_new,pred))\n",
        "plt.show()"
      ],
      "metadata": {
        "id": "f-vI3IXm2hI8"
      },
      "execution_count": null,
      "outputs": []
    }
  ]
}