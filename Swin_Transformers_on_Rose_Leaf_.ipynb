{
 "cells": [
  {
   "cell_type": "code",
   "execution_count": null,
   "metadata": {
    "colab": {
     "base_uri": "https://localhost:8080/"
    },
    "id": "UA6unCRCt1x1",
    "outputId": "cfb26e4d-bc41-45e6-a28c-5a5c5be2a136"
   },
   "outputs": [
    {
     "name": "stdout",
     "output_type": "stream",
     "text": [
      "Sun Sep 24 16:55:52 2023       \n",
      "+-----------------------------------------------------------------------------+\n",
      "| NVIDIA-SMI 525.105.17   Driver Version: 525.105.17   CUDA Version: 12.0     |\n",
      "|-------------------------------+----------------------+----------------------+\n",
      "| GPU  Name        Persistence-M| Bus-Id        Disp.A | Volatile Uncorr. ECC |\n",
      "| Fan  Temp  Perf  Pwr:Usage/Cap|         Memory-Usage | GPU-Util  Compute M. |\n",
      "|                               |                      |               MIG M. |\n",
      "|===============================+======================+======================|\n",
      "|   0  Tesla T4            Off  | 00000000:00:04.0 Off |                    0 |\n",
      "| N/A   53C    P8     9W /  70W |      0MiB / 15360MiB |      0%      Default |\n",
      "|                               |                      |                  N/A |\n",
      "+-------------------------------+----------------------+----------------------+\n",
      "                                                                               \n",
      "+-----------------------------------------------------------------------------+\n",
      "| Processes:                                                                  |\n",
      "|  GPU   GI   CI        PID   Type   Process name                  GPU Memory |\n",
      "|        ID   ID                                                   Usage      |\n",
      "|=============================================================================|\n",
      "|  No running processes found                                                 |\n",
      "+-----------------------------------------------------------------------------+\n"
     ]
    }
   ],
   "source": [
    "! nvidia-smi"
   ]
  },
  {
   "cell_type": "code",
   "execution_count": null,
   "metadata": {
    "colab": {
     "base_uri": "https://localhost:8080/"
    },
    "id": "23M4SBWIuJ-7",
    "outputId": "78f2ab3a-79eb-45d8-a9c3-b3c8edc37d2a"
   },
   "outputs": [
    {
     "name": "stdout",
     "output_type": "stream",
     "text": [
      "Mounted at /content/drive\n"
     ]
    }
   ],
   "source": [
    "from google.colab import drive\n",
    "drive.mount('/content/drive')"
   ]
  },
  {
   "cell_type": "code",
   "execution_count": 1,
   "metadata": {
    "id": "VQE8IceIuKBy"
   },
   "outputs": [
    {
     "name": "stderr",
     "output_type": "stream",
     "text": [
      "C:\\ProgramData\\Anaconda3\\lib\\site-packages\\scipy\\__init__.py:155: UserWarning: A NumPy version >=1.18.5 and <1.25.0 is required for this version of SciPy (detected version 1.26.0\n",
      "  warnings.warn(f\"A NumPy version >={np_minversion} and <{np_maxversion}\"\n"
     ]
    }
   ],
   "source": [
    "import matplotlib.pyplot as plt\n",
    "import seaborn as sns\n",
    "\n",
    "import keras\n",
    "from keras.models import Sequential\n",
    "from keras.layers import Dense, Conv2D , MaxPool2D , Flatten , Dropout\n",
    "from keras.preprocessing.image import ImageDataGenerator\n",
    "from tensorflow.keras.optimizers import Adam\n",
    "\n",
    "from sklearn.metrics import classification_report,confusion_matrix\n",
    "\n",
    "import tensorflow as tf\n",
    "\n",
    "import cv2\n",
    "import os\n",
    "\n",
    "import numpy as np\n"
   ]
  },
  {
   "cell_type": "code",
   "execution_count": 2,
   "metadata": {
    "id": "ZWkkDvUAuKFj"
   },
   "outputs": [],
   "source": [
    "\n",
    "labels = [\"Black Spot\", \"Downy Mildew\",\"Fresh Leaf\"]\n",
    "img_size = 32\n",
    "def get_data(data_dir):\n",
    "    data = []\n",
    "    for label in labels:\n",
    "        path = os.path.join(data_dir, label)\n",
    "        class_num = labels.index(label)\n",
    "        for img in os.listdir(path):\n",
    "            try:\n",
    "                img_arr = cv2.imread(os.path.join(path, img))[...,::-1] #convert BGR to RGB format\n",
    "                resized_arr = cv2.resize(img_arr, (img_size, img_size)) # Reshaping images to preferred size\n",
    "                data.append([resized_arr, class_num])\n",
    "            except Exception as e:\n",
    "                print(e)\n",
    "    return np.array(data)\n"
   ]
  },
  {
   "cell_type": "code",
   "execution_count": null,
   "metadata": {
    "colab": {
     "base_uri": "https://localhost:8080/"
    },
    "id": "M3TsOkxGv50h",
    "outputId": "d5db3dbd-eb0e-4f92-aafc-d713bb0c612a"
   },
   "outputs": [],
   "source": [
    "\n",
    "train = get_data('Rose_leaf_new')"
   ]
  },
  {
   "cell_type": "code",
   "execution_count": null,
   "metadata": {
    "colab": {
     "base_uri": "https://localhost:8080/",
     "height": 449
    },
    "id": "oqPFgfX7v-Kc",
    "outputId": "a18c2393-cfe0-4acf-a604-4f4dfdb9e47e"
   },
   "outputs": [
    {
     "data": {
      "image/png": "[encoded data removed]",
      "text/plain": [
       "<Figure size 640x480 with 1 Axes>"
      ]
     },
     "metadata": {},
     "output_type": "display_data"
    }
   ],
   "source": [
    "import pandas as pd\n",
    "\n",
    "l = []\n",
    "for i in train:\n",
    "    if(i[1] == 0):\n",
    "        l.append(\"Black Spot\")\n",
    "    elif(i[1] == 1):\n",
    "          l.append(\"Downy mildew\")\n",
    "    elif(i[1] == 2):\n",
    "          l.append(\"Fresh Leaf\")\n",
    "\n",
    "\n",
    "\n",
    "if len(l) > 0:\n",
    "    sns.set_style('darkgrid')\n",
    "    sns.countplot(x=\"label\", hue=\"class\", data=pd.DataFrame({\"label\": l, \"class\": train[:, 1]}))\n",
    "    plt.show()\n",
    "else:\n",
    "    print(\"No data found for the given labels.\")"
   ]
  },
  {
   "cell_type": "code",
   "execution_count": null,
   "metadata": {
    "colab": {
     "base_uri": "https://localhost:8080/",
     "height": 486
    },
    "id": "gskxbWBPv-NN",
    "outputId": "80bfdefe-5800-4d4e-92e4-f070dfe14c5f"
   },
   "outputs": [
    {
     "data": {
      "text/plain": [
       "Text(0.5, 1.0, 'Black Spot')"
      ]
     },
     "execution_count": 8,
     "metadata": {},
     "output_type": "execute_result"
    },
    {
     "data": {
      "image/png": "[encoded data removed]",
      "text/plain": [
       "<Figure size 500x500 with 1 Axes>"
      ]
     },
     "metadata": {},
     "output_type": "display_data"
    }
   ],
   "source": [
    "\n",
    "plt.figure(figsize = (5,5))\n",
    "plt.imshow(train[1][0])\n",
    "plt.title(labels[train[0][1]])"
   ]
  },
  {
   "cell_type": "code",
   "execution_count": null,
   "metadata": {
    "id": "yRUkG1CCv-QA"
   },
   "outputs": [],
   "source": [
    "\n",
    "x_train = []\n",
    "y_train = []\n",
    "\n",
    "\n",
    "for feature, label in train:\n",
    "  x_train.append(feature)\n",
    "  y_train.append(label)\n",
    "x_train = np.array(x_train) / 255\n",
    "x_train.reshape(-1, img_size, img_size, 1)\n",
    "y_train = np.array(y_train)"
   ]
  },
  {
   "cell_type": "code",
   "execution_count": null,
   "metadata": {
    "id": "7RgslyLcw9Hl"
   },
   "outputs": [],
   "source": [
    "\n",
    "# split with a stratified sampling\n",
    "from sklearn.model_selection import train_test_split\n",
    "(x_train, x_test, y_train, y_test) = train_test_split(x_train, y_train,\n",
    "    test_size=0.15, stratify=y_train, random_state=42)"
   ]
  },
  {
   "cell_type": "code",
   "execution_count": null,
   "metadata": {
    "colab": {
     "base_uri": "https://localhost:8080/"
    },
    "id": "1lwTbHgfMDYx",
    "outputId": "ccfde053-8a50-4f46-ff96-7ba728fe65da"
   },
   "outputs": [
    {
     "name": "stdout",
     "output_type": "stream",
     "text": [
      "\u001b[?25l     \u001b[90m━━━━━━━━━━━━━━━━━━━━━━━━━━━━━━━━━━━━━━━━\u001b[0m \u001b[32m0.0/612.1 kB\u001b[0m \u001b[31m?\u001b[0m eta \u001b[36m-:--:--\u001b[0m\r",
      "\u001b[2K     \u001b[91m━\u001b[0m\u001b[91m╸\u001b[0m\u001b[90m━━━━━━━━━━━━━━━━━━━━━━━━━━━━━━━━━━━━\u001b[0m \u001b[32m30.7/612.1 kB\u001b[0m \u001b[31m989.5 kB/s\u001b[0m eta \u001b[36m0:00:01\u001b[0m\r",
      "\u001b[2K     \u001b[91m━━━━━━━━━━\u001b[0m\u001b[90m╺\u001b[0m\u001b[90m━━━━━━━━━━━━━━━━━━━━━━━━━━━━\u001b[0m \u001b[32m163.8/612.1 kB\u001b[0m \u001b[31m2.6 MB/s\u001b[0m eta \u001b[36m0:00:01\u001b[0m\r",
      "\u001b[2K     \u001b[90m━━━━━━━━━━━━━━━━━━━━━━━━━━━━━━━━━━━━━━━\u001b[0m \u001b[32m612.1/612.1 kB\u001b[0m \u001b[31m5.7 MB/s\u001b[0m eta \u001b[36m0:00:00\u001b[0m\n",
      "\u001b[?25h"
     ]
    }
   ],
   "source": [
    "\n",
    "!pip install -U -q tensorflow-addons"
   ]
  },
  {
   "cell_type": "code",
   "execution_count": null,
   "metadata": {
    "colab": {
     "base_uri": "https://localhost:8080/"
    },
    "id": "yuTj0Re2w9NZ",
    "outputId": "16e8b443-04c0-4ce4-d7f8-b848a15fa7c1"
   },
   "outputs": [
    {
     "name": "stderr",
     "output_type": "stream",
     "text": [
      "/usr/local/lib/python3.10/dist-packages/tensorflow_addons/utils/tfa_eol_msg.py:23: UserWarning: \n",
      "\n",
      "TensorFlow Addons (TFA) has ended development and introduction of new features.\n",
      "TFA has entered a minimal maintenance and release mode until a planned end of life in May 2024.\n",
      "Please modify downstream libraries to take dependencies from other repositories in our TensorFlow community (e.g. Keras, Keras-CV, and Keras-NLP). \n",
      "\n",
      "For more information see: https://github.com/tensorflow/addons/issues/2807 \n",
      "\n",
      "  warnings.warn(\n"
     ]
    }
   ],
   "source": [
    "from tensorflow.keras import layers\n",
    "from tensorflow import keras\n",
    "\n",
    "import matplotlib.pyplot as plt\n",
    "import tensorflow_addons as tfa\n",
    "import tensorflow as tf\n",
    "import numpy as np"
   ]
  },
  {
   "cell_type": "code",
   "execution_count": null,
   "metadata": {
    "id": "c3ytC9L_xC8d"
   },
   "outputs": [],
   "source": [
    "\n",
    "y_train = keras.utils.to_categorical(\n",
    "    y_train, num_classes=3, dtype='float32'\n",
    ")\n",
    "y_test = keras.utils.to_categorical(\n",
    "    y_test, num_classes=3, dtype='float32'\n",
    ")"
   ]
  },
  {
   "cell_type": "code",
   "execution_count": null,
   "metadata": {
    "id": "c9fbj13jxC_I"
   },
   "outputs": [],
   "source": [
    "num_classes = 3\n",
    "input_shape = (32, 32, 3)"
   ]
  },
  {
   "cell_type": "code",
   "execution_count": null,
   "metadata": {
    "colab": {
     "base_uri": "https://localhost:8080/"
    },
    "id": "joea4xlHxDB7",
    "outputId": "e79e62d3-89a6-4d76-fd16-ff143e6c5edf"
   },
   "outputs": [
    {
     "name": "stdout",
     "output_type": "stream",
     "text": [
      "x_train shape: (3690, 32, 32, 3) - y_train shape: (3690, 3)\n",
      "x_test shape: (652, 32, 32, 3) - y_test shape: (652, 3)\n"
     ]
    }
   ],
   "source": [
    "\n",
    "print(f\"x_train shape: {x_train.shape} - y_train shape: {y_train.shape}\")\n",
    "print(f\"x_test shape: {x_test.shape} - y_test shape: {y_test.shape}\")\n"
   ]
  },
  {
   "cell_type": "code",
   "execution_count": null,
   "metadata": {
    "id": "JOAAh2KNxDEU"
   },
   "outputs": [],
   "source": [
    "\n",
    "import matplotlib.pyplot as plt\n",
    "import numpy as np\n",
    "import tensorflow as tf\n",
    "import tensorflow_addons as tfa\n",
    "from tensorflow import keras\n",
    "from tensorflow.keras import layers"
   ]
  },
  {
   "cell_type": "code",
   "execution_count": null,
   "metadata": {
    "id": "jEFT0t7TxSHf"
   },
   "outputs": [],
   "source": [
    "\n",
    "patch_size = (2, 2)  # 2-by-2 sized patches\n",
    "dropout_rate = 0.03  # Dropout rate\n",
    "num_heads = 4  # Attention heads\n",
    "embed_dim = 64  # Embedding dimension\n",
    "num_mlp = 64  # MLP layer size\n",
    "qkv_bias = True  # Convert embedded patches to query, key, and values with a learnable additive value\n",
    "window_size = 2  # Size of attention window\n",
    "shift_size = 1  # Size of shifting window\n",
    "image_dimension = 32  # Initial image size\n",
    "\n",
    "num_patch_x = input_shape[0] // patch_size[0]\n",
    "num_patch_y = input_shape[1] // patch_size[1]\n",
    "\n",
    "learning_rate = 0.001\n",
    "batch_size = 128\n",
    "num_epochs = 100\n",
    "validation_split = 0.1\n",
    "weight_decay = 0.0001\n",
    "label_smoothing = 0.1"
   ]
  },
  {
   "cell_type": "code",
   "execution_count": null,
   "metadata": {
    "id": "nvcNuK7axSKG"
   },
   "outputs": [],
   "source": [
    "def window_partition(x, window_size):\n",
    "    _, height, width, channels = x.shape\n",
    "    patch_num_y = height // window_size\n",
    "    patch_num_x = width // window_size\n",
    "    x = tf.reshape(\n",
    "        x, shape=(-1, patch_num_y, window_size, patch_num_x, window_size, channels)\n",
    "    )\n",
    "    x = tf.transpose(x, (0, 1, 3, 2, 4, 5))\n",
    "    windows = tf.reshape(x, shape=(-1, window_size, window_size, channels))\n",
    "    return windows\n",
    "\n",
    "\n",
    "def window_reverse(windows, window_size, height, width, channels):\n",
    "    patch_num_y = height // window_size\n",
    "    patch_num_x = width // window_size\n",
    "    x = tf.reshape(\n",
    "        windows,\n",
    "        shape=(-1, patch_num_y, patch_num_x, window_size, window_size, channels),\n",
    "    )\n",
    "    x = tf.transpose(x, perm=(0, 1, 3, 2, 4, 5))\n",
    "    x = tf.reshape(x, shape=(-1, height, width, channels))\n",
    "    return x\n",
    "\n",
    "\n",
    "class DropPath(layers.Layer):\n",
    "    def __init__(self, drop_prob=None, **kwargs):\n",
    "        super(DropPath, self).__init__(**kwargs)\n",
    "        self.drop_prob = drop_prob\n",
    "\n",
    "    def call(self, x):\n",
    "        input_shape = tf.shape(x)\n",
    "        batch_size = input_shape[0]\n",
    "        rank = x.shape.rank\n",
    "        shape = (batch_size,) + (1,) * (rank - 1)\n",
    "        random_tensor = (1 - self.drop_prob) + tf.random.uniform(shape, dtype=x.dtype)\n",
    "        path_mask = tf.floor(random_tensor)\n",
    "        output = tf.math.divide(x, 1 - self.drop_prob) * path_mask\n",
    "        return output"
   ]
  },
  {
   "cell_type": "code",
   "execution_count": null,
   "metadata": {
    "id": "f9S0gCVPxSMw"
   },
   "outputs": [],
   "source": [
    "class WindowAttention(layers.Layer):\n",
    "    def __init__(\n",
    "        self, dim, window_size, num_heads, qkv_bias=True, dropout_rate=0.0, **kwargs\n",
    "    ):\n",
    "        super(WindowAttention, self).__init__(**kwargs)\n",
    "        self.dim = dim\n",
    "        self.window_size = window_size\n",
    "        self.num_heads = num_heads\n",
    "        self.scale = (dim // num_heads) ** -0.5\n",
    "        self.qkv = layers.Dense(dim * 3, use_bias=qkv_bias)\n",
    "        self.dropout = layers.Dropout(dropout_rate)\n",
    "        self.proj = layers.Dense(dim)\n",
    "\n",
    "    def build(self, input_shape):\n",
    "        num_window_elements = (2 * self.window_size[0] - 1) * (\n",
    "            2 * self.window_size[1] - 1\n",
    "        )\n",
    "        self.relative_position_bias_table = self.add_weight(\n",
    "            shape=(num_window_elements, self.num_heads),\n",
    "            initializer=tf.initializers.Zeros(),\n",
    "            trainable=True,\n",
    "        )\n",
    "        coords_h = np.arange(self.window_size[0])\n",
    "        coords_w = np.arange(self.window_size[1])\n",
    "        coords_matrix = np.meshgrid(coords_h, coords_w, indexing=\"ij\")\n",
    "        coords = np.stack(coords_matrix)\n",
    "        coords_flatten = coords.reshape(2, -1)\n",
    "        relative_coords = coords_flatten[:, :, None] - coords_flatten[:, None, :]\n",
    "        relative_coords = relative_coords.transpose([1, 2, 0])\n",
    "        relative_coords[:, :, 0] += self.window_size[0] - 1\n",
    "        relative_coords[:, :, 1] += self.window_size[1] - 1\n",
    "        relative_coords[:, :, 0] *= 2 * self.window_size[1] - 1\n",
    "        relative_position_index = relative_coords.sum(-1)\n",
    "\n",
    "        self.relative_position_index = tf.Variable(\n",
    "            initial_value=tf.convert_to_tensor(relative_position_index), trainable=False\n",
    "        )\n",
    "\n",
    "    def call(self, x, mask=None):\n",
    "        _, size, channels = x.shape\n",
    "        head_dim = channels // self.num_heads\n",
    "        x_qkv = self.qkv(x)\n",
    "        x_qkv = tf.reshape(x_qkv, shape=(-1, size, 3, self.num_heads, head_dim))\n",
    "        x_qkv = tf.transpose(x_qkv, perm=(2, 0, 3, 1, 4))\n",
    "        q, k, v = x_qkv[0], x_qkv[1], x_qkv[2]\n",
    "        q = q * self.scale\n",
    "        k = tf.transpose(k, perm=(0, 1, 3, 2))\n",
    "        attn = q @ k\n",
    "\n",
    "        num_window_elements = self.window_size[0] * self.window_size[1]\n",
    "        relative_position_index_flat = tf.reshape(\n",
    "            self.relative_position_index, shape=(-1,)\n",
    "        )\n",
    "        relative_position_bias = tf.gather(\n",
    "            self.relative_position_bias_table, relative_position_index_flat\n",
    "        )\n",
    "        relative_position_bias = tf.reshape(\n",
    "            relative_position_bias, shape=(num_window_elements, num_window_elements, -1)\n",
    "        )\n",
    "        relative_position_bias = tf.transpose(relative_position_bias, perm=(2, 0, 1))\n",
    "        attn = attn + tf.expand_dims(relative_position_bias, axis=0)\n",
    "\n",
    "        if mask is not None:\n",
    "            nW = mask.get_shape()[0]\n",
    "            mask_float = tf.cast(\n",
    "                tf.expand_dims(tf.expand_dims(mask, axis=1), axis=0), tf.float32\n",
    "            )\n",
    "            attn = (\n",
    "                tf.reshape(attn, shape=(-1, nW, self.num_heads, size, size))\n",
    "                + mask_float\n",
    "            )\n",
    "            attn = tf.reshape(attn, shape=(-1, self.num_heads, size, size))\n",
    "            attn = keras.activations.softmax(attn, axis=-1)\n",
    "        else:\n",
    "            attn = keras.activations.softmax(attn, axis=-1)\n",
    "        attn = self.dropout(attn)\n",
    "\n",
    "        x_qkv = attn @ v\n",
    "        x_qkv = tf.transpose(x_qkv, perm=(0, 2, 1, 3))\n",
    "        x_qkv = tf.reshape(x_qkv, shape=(-1, size, channels))\n",
    "        x_qkv = self.proj(x_qkv)\n",
    "        x_qkv = self.dropout(x_qkv)\n",
    "        return x_qkv"
   ]
  },
  {
   "cell_type": "code",
   "execution_count": null,
   "metadata": {
    "id": "q2hRGzHbv-SY"
   },
   "outputs": [],
   "source": [
    "class SwinTransformer(layers.Layer):\n",
    "    def __init__(\n",
    "        self,\n",
    "        dim,\n",
    "        num_patch,\n",
    "        num_heads,\n",
    "        window_size=7,\n",
    "        shift_size=0,\n",
    "        num_mlp=1024,\n",
    "        qkv_bias=True,\n",
    "        dropout_rate=0.0,\n",
    "        **kwargs,\n",
    "    ):\n",
    "        super(SwinTransformer, self).__init__(**kwargs)\n",
    "\n",
    "        self.dim = dim  # number of input dimensions\n",
    "        self.num_patch = num_patch  # number of embedded patches\n",
    "        self.num_heads = num_heads  # number of attention heads\n",
    "        self.window_size = window_size  # size of window\n",
    "        self.shift_size = shift_size  # size of window shift\n",
    "        self.num_mlp = num_mlp  # number of MLP nodes\n",
    "\n",
    "        self.norm1 = layers.LayerNormalization(epsilon=1e-5)\n",
    "        self.attn = WindowAttention(\n",
    "            dim,\n",
    "            window_size=(self.window_size, self.window_size),\n",
    "            num_heads=num_heads,\n",
    "            qkv_bias=qkv_bias,\n",
    "            dropout_rate=dropout_rate,\n",
    "        )\n",
    "        self.drop_path = DropPath(dropout_rate)\n",
    "        self.norm2 = layers.LayerNormalization(epsilon=1e-5)\n",
    "\n",
    "        self.mlp = keras.Sequential(\n",
    "            [\n",
    "                layers.Dense(num_mlp),\n",
    "                layers.Activation(keras.activations.elu),\n",
    "                layers.Dropout(dropout_rate),\n",
    "                layers.Dense(dim),\n",
    "                layers.Dropout(dropout_rate),\n",
    "            ]\n",
    "        )\n",
    "\n",
    "        if min(self.num_patch) < self.window_size:\n",
    "            self.shift_size = 0\n",
    "            self.window_size = min(self.num_patch)\n",
    "\n",
    "    def build(self, input_shape):\n",
    "        if self.shift_size == 0:\n",
    "            self.attn_mask = None\n",
    "        else:\n",
    "            height, width = self.num_patch\n",
    "            h_slices = (\n",
    "                slice(0, -self.window_size),\n",
    "                slice(-self.window_size, -self.shift_size),\n",
    "                slice(-self.shift_size, None),\n",
    "            )\n",
    "            w_slices = (\n",
    "                slice(0, -self.window_size),\n",
    "                slice(-self.window_size, -self.shift_size),\n",
    "                slice(-self.shift_size, None),\n",
    "            )\n",
    "            mask_array = np.zeros((1, height, width, 1))\n",
    "            count = 0\n",
    "            for h in h_slices:\n",
    "                for w in w_slices:\n",
    "                    mask_array[:, h, w, :] = count\n",
    "                    count += 1\n",
    "            mask_array = tf.convert_to_tensor(mask_array)\n",
    "\n",
    "            # mask array to windows\n",
    "            mask_windows = window_partition(mask_array, self.window_size)\n",
    "            mask_windows = tf.reshape(\n",
    "                mask_windows, shape=[-1, self.window_size * self.window_size]\n",
    "            )\n",
    "            attn_mask = tf.expand_dims(mask_windows, axis=1) - tf.expand_dims(\n",
    "                mask_windows, axis=2\n",
    "            )\n",
    "            attn_mask = tf.where(attn_mask != 0, -100.0, attn_mask)\n",
    "            attn_mask = tf.where(attn_mask == 0, 0.0, attn_mask)\n",
    "            self.attn_mask = tf.Variable(initial_value=attn_mask, trainable=False)\n",
    "\n",
    "    def call(self, x):\n",
    "        height, width = self.num_patch\n",
    "        _, num_patches_before, channels = x.shape\n",
    "        x_skip = x\n",
    "        x = self.norm1(x)\n",
    "        x = tf.reshape(x, shape=(-1, height, width, channels))\n",
    "        if self.shift_size > 0:\n",
    "            shifted_x = tf.roll(\n",
    "                x, shift=[-self.shift_size, -self.shift_size], axis=[1, 2]\n",
    "            )\n",
    "        else:\n",
    "            shifted_x = x\n",
    "\n",
    "        x_windows = window_partition(shifted_x, self.window_size)\n",
    "        x_windows = tf.reshape(\n",
    "            x_windows, shape=(-1, self.window_size * self.window_size, channels)\n",
    "        )\n",
    "        attn_windows = self.attn(x_windows, mask=self.attn_mask)\n",
    "\n",
    "        attn_windows = tf.reshape(\n",
    "            attn_windows, shape=(-1, self.window_size, self.window_size, channels)\n",
    "        )\n",
    "        shifted_x = window_reverse(\n",
    "            attn_windows, self.window_size, height, width, channels\n",
    "        )\n",
    "        if self.shift_size > 0:\n",
    "            x = tf.roll(\n",
    "                shifted_x, shift=[self.shift_size, self.shift_size], axis=[1, 2]\n",
    "            )\n",
    "        else:\n",
    "            x = shifted_x\n",
    "\n",
    "        x = tf.reshape(x, shape=(-1, height * width, channels))\n",
    "        x = self.drop_path(x)\n",
    "        x = x_skip + x\n",
    "        x_skip = x\n",
    "        x = self.norm2(x)\n",
    "        x = self.mlp(x)\n",
    "        x = self.drop_path(x)\n",
    "        x = x_skip + x\n",
    "        return x\n"
   ]
  },
  {
   "cell_type": "code",
   "execution_count": null,
   "metadata": {
    "id": "pf6fJsXPxup9"
   },
   "outputs": [],
   "source": [
    "class PatchExtract(layers.Layer):\n",
    "    def __init__(self, patch_size, **kwargs):\n",
    "        super(PatchExtract, self).__init__(**kwargs)\n",
    "        self.patch_size_x = patch_size[0]\n",
    "        self.patch_size_y = patch_size[0]\n",
    "\n",
    "    def call(self, images):\n",
    "        batch_size = tf.shape(images)[0]\n",
    "        patches = tf.image.extract_patches(\n",
    "            images=images,\n",
    "            sizes=(1, self.patch_size_x, self.patch_size_y, 1),\n",
    "            strides=(1, self.patch_size_x, self.patch_size_y, 1),\n",
    "            rates=(1, 1, 1, 1),\n",
    "            padding=\"VALID\",\n",
    "        )\n",
    "        patch_dim = patches.shape[-1]\n",
    "        patch_num = patches.shape[1]\n",
    "        return tf.reshape(patches, (batch_size, patch_num * patch_num, patch_dim))\n",
    "\n",
    "\n",
    "class PatchEmbedding(layers.Layer):\n",
    "    def __init__(self, num_patch, embed_dim, **kwargs):\n",
    "        super(PatchEmbedding, self).__init__(**kwargs)\n",
    "        self.num_patch = num_patch\n",
    "        self.proj = layers.Dense(embed_dim)\n",
    "        self.pos_embed = layers.Embedding(input_dim=num_patch, output_dim=embed_dim)\n",
    "\n",
    "    def call(self, patch):\n",
    "        pos = tf.range(start=0, limit=self.num_patch, delta=1)\n",
    "        return self.proj(patch) + self.pos_embed(pos)\n",
    "\n",
    "\n",
    "class PatchMerging(tf.keras.layers.Layer):\n",
    "    def __init__(self, num_patch, embed_dim):\n",
    "        super(PatchMerging, self).__init__()\n",
    "        self.num_patch = num_patch\n",
    "        self.embed_dim = embed_dim\n",
    "        self.linear_trans = layers.Dense(2 * embed_dim, use_bias=False)\n",
    "\n",
    "    def call(self, x):\n",
    "        height, width = self.num_patch\n",
    "        _, _, C = x.get_shape().as_list()\n",
    "        x = tf.reshape(x, shape=(-1, height, width, C))\n",
    "        x0 = x[:, 0::2, 0::2, :]\n",
    "        x1 = x[:, 1::2, 0::2, :]\n",
    "        x2 = x[:, 0::2, 1::2, :]\n",
    "        x3 = x[:, 1::2, 1::2, :]\n",
    "        x = tf.concat((x0, x1, x2, x3), axis=-1)\n",
    "        x = tf.reshape(x, shape=(-1, (height // 2) * (width // 2), 4 * C))\n",
    "        return self.linear_trans(x)"
   ]
  },
  {
   "cell_type": "code",
   "execution_count": null,
   "metadata": {
    "id": "PF4JF6Tax1Kq"
   },
   "outputs": [],
   "source": [
    "input = layers.Input(input_shape)\n",
    "x = layers.RandomCrop(image_dimension, image_dimension)(input)\n",
    "x = layers.RandomFlip(\"horizontal\")(x)\n",
    "x = PatchExtract(patch_size)(x)\n",
    "x = PatchEmbedding(num_patch_x * num_patch_y, embed_dim)(x)\n",
    "x = SwinTransformer(\n",
    "    dim=embed_dim,\n",
    "    num_patch=(num_patch_x, num_patch_y),\n",
    "    num_heads=num_heads,\n",
    "    window_size=window_size,\n",
    "    shift_size=0,\n",
    "    num_mlp=num_mlp,\n",
    "    qkv_bias=qkv_bias,\n",
    "    dropout_rate=dropout_rate,\n",
    ")(x)\n",
    "x = SwinTransformer(\n",
    "    dim=embed_dim,\n",
    "    num_patch=(num_patch_x, num_patch_y),\n",
    "    num_heads=num_heads,\n",
    "    window_size=window_size,\n",
    "    shift_size=shift_size,\n",
    "    num_mlp=num_mlp,\n",
    "    qkv_bias=qkv_bias,\n",
    "    dropout_rate=dropout_rate,\n",
    ")(x)\n",
    "x = PatchMerging((num_patch_x, num_patch_y), embed_dim=embed_dim)(x)\n",
    "x = layers.GlobalAveragePooling1D()(x)\n",
    "output = layers.Dense(num_classes, activation=\"softmax\")(x)"
   ]
  },
  {
   "cell_type": "code",
   "execution_count": null,
   "metadata": {
    "colab": {
     "base_uri": "https://localhost:8080/"
    },
    "id": "5sltmqem4XTS",
    "outputId": "b7a584a1-346b-4b92-f10f-11e316e7d23a"
   },
   "outputs": [
    {
     "name": "stdout",
     "output_type": "stream",
     "text": [
      "0.21.0\n"
     ]
    }
   ],
   "source": [
    "import tensorflow_addons as tfa\n",
    "print(tfa.__version__)\n"
   ]
  },
  {
   "cell_type": "code",
   "execution_count": null,
   "metadata": {
    "colab": {
     "base_uri": "https://localhost:8080/"
    },
    "id": "nyZ8m7xt6ZKQ",
    "outputId": "c8c412fa-2a60-4d13-dd37-ccfc615aef24"
   },
   "outputs": [
    {
     "name": "stdout",
     "output_type": "stream",
     "text": [
      "Requirement already satisfied: tensorflow-addons in /usr/local/lib/python3.10/dist-packages (0.21.0)\n",
      "Requirement already satisfied: packaging in /usr/local/lib/python3.10/dist-packages (from tensorflow-addons) (23.1)\n",
      "Requirement already satisfied: typeguard<3.0.0,>=2.7 in /usr/local/lib/python3.10/dist-packages (from tensorflow-addons) (2.13.3)\n"
     ]
    }
   ],
   "source": [
    "!pip install tensorflow-addons\n"
   ]
  },
  {
   "cell_type": "code",
   "execution_count": null,
   "metadata": {
    "id": "DuU0yyZ46ZNH"
   },
   "outputs": [],
   "source": []
  },
  {
   "cell_type": "code",
   "execution_count": null,
   "metadata": {
    "id": "UbNZ6DKu6ZP9"
   },
   "outputs": [],
   "source": []
  },
  {
   "cell_type": "code",
   "execution_count": null,
   "metadata": {
    "id": "MsJH5tft4ZIn"
   },
   "outputs": [],
   "source": [
    "from tensorflow.keras.optimizers import Adam\n",
    "\n"
   ]
  },
  {
   "cell_type": "code",
   "execution_count": null,
   "metadata": {
    "id": "FZ7dBNry7DW2"
   },
   "outputs": [],
   "source": [
    "from tensorflow.keras import optimizers\n"
   ]
  },
  {
   "cell_type": "code",
   "execution_count": null,
   "metadata": {
    "colab": {
     "base_uri": "https://localhost:8080/"
    },
    "id": "xWGzvB9Rx13E",
    "outputId": "c1632ac3-b23c-4e34-ff0c-4f3fd604c15d"
   },
   "outputs": [
    {
     "name": "stdout",
     "output_type": "stream",
     "text": [
      "Epoch 1/100\n",
      "26/26 [==============================] - 11s 106ms/step - loss: 0.3843 - accuracy: 0.9708 - top-5-accuracy: 1.0000 - val_loss: 0.5252 - val_accuracy: 0.8916 - val_top-5-accuracy: 1.0000\n",
      "Epoch 2/100\n",
      "26/26 [==============================] - 1s 49ms/step - loss: 0.3468 - accuracy: 0.9892 - top-5-accuracy: 1.0000 - val_loss: 0.5353 - val_accuracy: 0.8889 - val_top-5-accuracy: 1.0000\n",
      "Epoch 3/100\n",
      "26/26 [==============================] - 1s 46ms/step - loss: 0.3465 - accuracy: 0.9871 - top-5-accuracy: 1.0000 - val_loss: 0.5319 - val_accuracy: 0.8889 - val_top-5-accuracy: 1.0000\n",
      "Epoch 4/100\n",
      "26/26 [==============================] - 1s 46ms/step - loss: 0.3491 - accuracy: 0.9864 - top-5-accuracy: 1.0000 - val_loss: 0.5044 - val_accuracy: 0.9024 - val_top-5-accuracy: 1.0000\n",
      "Epoch 5/100\n",
      "26/26 [==============================] - 1s 47ms/step - loss: 0.3448 - accuracy: 0.9889 - top-5-accuracy: 1.0000 - val_loss: 0.5177 - val_accuracy: 0.8970 - val_top-5-accuracy: 1.0000\n",
      "Epoch 6/100\n",
      "26/26 [==============================] - 1s 46ms/step - loss: 0.3486 - accuracy: 0.9874 - top-5-accuracy: 1.0000 - val_loss: 0.5258 - val_accuracy: 0.8835 - val_top-5-accuracy: 1.0000\n",
      "Epoch 7/100\n",
      "26/26 [==============================] - 1s 47ms/step - loss: 0.3502 - accuracy: 0.9868 - top-5-accuracy: 1.0000 - val_loss: 0.5120 - val_accuracy: 0.8997 - val_top-5-accuracy: 1.0000\n",
      "Epoch 8/100\n",
      "26/26 [==============================] - 1s 46ms/step - loss: 0.3520 - accuracy: 0.9834 - top-5-accuracy: 1.0000 - val_loss: 0.5180 - val_accuracy: 0.8862 - val_top-5-accuracy: 1.0000\n",
      "Epoch 9/100\n",
      "26/26 [==============================] - 1s 46ms/step - loss: 0.3429 - accuracy: 0.9889 - top-5-accuracy: 1.0000 - val_loss: 0.5157 - val_accuracy: 0.8916 - val_top-5-accuracy: 1.0000\n",
      "Epoch 10/100\n",
      "26/26 [==============================] - 1s 49ms/step - loss: 0.3480 - accuracy: 0.9868 - top-5-accuracy: 1.0000 - val_loss: 0.5186 - val_accuracy: 0.8780 - val_top-5-accuracy: 1.0000\n",
      "Epoch 11/100\n",
      "26/26 [==============================] - 1s 57ms/step - loss: 0.3412 - accuracy: 0.9913 - top-5-accuracy: 1.0000 - val_loss: 0.5151 - val_accuracy: 0.8889 - val_top-5-accuracy: 1.0000\n",
      "Epoch 12/100\n",
      "26/26 [==============================] - 1s 56ms/step - loss: 0.3416 - accuracy: 0.9913 - top-5-accuracy: 1.0000 - val_loss: 0.5191 - val_accuracy: 0.8889 - val_top-5-accuracy: 1.0000\n",
      "Epoch 13/100\n",
      "26/26 [==============================] - 1s 50ms/step - loss: 0.3488 - accuracy: 0.9871 - top-5-accuracy: 1.0000 - val_loss: 0.5146 - val_accuracy: 0.8835 - val_top-5-accuracy: 1.0000\n",
      "Epoch 14/100\n",
      "26/26 [==============================] - 1s 46ms/step - loss: 0.3474 - accuracy: 0.9886 - top-5-accuracy: 1.0000 - val_loss: 0.4970 - val_accuracy: 0.8970 - val_top-5-accuracy: 1.0000\n",
      "Epoch 15/100\n",
      "26/26 [==============================] - 1s 46ms/step - loss: 0.3466 - accuracy: 0.9892 - top-5-accuracy: 1.0000 - val_loss: 0.5013 - val_accuracy: 0.9051 - val_top-5-accuracy: 1.0000\n",
      "Epoch 16/100\n",
      "26/26 [==============================] - 1s 47ms/step - loss: 0.3484 - accuracy: 0.9877 - top-5-accuracy: 1.0000 - val_loss: 0.5147 - val_accuracy: 0.9024 - val_top-5-accuracy: 1.0000\n",
      "Epoch 17/100\n",
      "26/26 [==============================] - 1s 46ms/step - loss: 0.3493 - accuracy: 0.9877 - top-5-accuracy: 1.0000 - val_loss: 0.4930 - val_accuracy: 0.9051 - val_top-5-accuracy: 1.0000\n",
      "Epoch 18/100\n",
      "26/26 [==============================] - 1s 46ms/step - loss: 0.3490 - accuracy: 0.9858 - top-5-accuracy: 1.0000 - val_loss: 0.5020 - val_accuracy: 0.8943 - val_top-5-accuracy: 1.0000\n",
      "Epoch 19/100\n",
      "26/26 [==============================] - 1s 46ms/step - loss: 0.3456 - accuracy: 0.9868 - top-5-accuracy: 1.0000 - val_loss: 0.5367 - val_accuracy: 0.8808 - val_top-5-accuracy: 1.0000\n",
      "Epoch 20/100\n",
      "26/26 [==============================] - 1s 46ms/step - loss: 0.3428 - accuracy: 0.9910 - top-5-accuracy: 1.0000 - val_loss: 0.5096 - val_accuracy: 0.8943 - val_top-5-accuracy: 1.0000\n",
      "Epoch 21/100\n",
      "26/26 [==============================] - 1s 51ms/step - loss: 0.3430 - accuracy: 0.9913 - top-5-accuracy: 1.0000 - val_loss: 0.5179 - val_accuracy: 0.8835 - val_top-5-accuracy: 1.0000\n",
      "Epoch 22/100\n",
      "26/26 [==============================] - 1s 57ms/step - loss: 0.3421 - accuracy: 0.9931 - top-5-accuracy: 1.0000 - val_loss: 0.5441 - val_accuracy: 0.8753 - val_top-5-accuracy: 1.0000\n",
      "Epoch 23/100\n",
      "26/26 [==============================] - 1s 53ms/step - loss: 0.3551 - accuracy: 0.9834 - top-5-accuracy: 1.0000 - val_loss: 0.5100 - val_accuracy: 0.8916 - val_top-5-accuracy: 1.0000\n",
      "Epoch 24/100\n",
      "26/26 [==============================] - 1s 51ms/step - loss: 0.3500 - accuracy: 0.9861 - top-5-accuracy: 1.0000 - val_loss: 0.5123 - val_accuracy: 0.8943 - val_top-5-accuracy: 1.0000\n",
      "Epoch 25/100\n",
      "26/26 [==============================] - 1s 46ms/step - loss: 0.3439 - accuracy: 0.9910 - top-5-accuracy: 1.0000 - val_loss: 0.5391 - val_accuracy: 0.8862 - val_top-5-accuracy: 1.0000\n",
      "Epoch 26/100\n",
      "26/26 [==============================] - 1s 46ms/step - loss: 0.3377 - accuracy: 0.9904 - top-5-accuracy: 1.0000 - val_loss: 0.5268 - val_accuracy: 0.8753 - val_top-5-accuracy: 1.0000\n",
      "Epoch 27/100\n",
      "26/26 [==============================] - 1s 46ms/step - loss: 0.3414 - accuracy: 0.9901 - top-5-accuracy: 1.0000 - val_loss: 0.5488 - val_accuracy: 0.8672 - val_top-5-accuracy: 1.0000\n",
      "Epoch 28/100\n",
      "26/26 [==============================] - 1s 46ms/step - loss: 0.3446 - accuracy: 0.9880 - top-5-accuracy: 1.0000 - val_loss: 0.5243 - val_accuracy: 0.8862 - val_top-5-accuracy: 1.0000\n",
      "Epoch 29/100\n",
      "26/26 [==============================] - 1s 47ms/step - loss: 0.3431 - accuracy: 0.9880 - top-5-accuracy: 1.0000 - val_loss: 0.5113 - val_accuracy: 0.8970 - val_top-5-accuracy: 1.0000\n",
      "Epoch 30/100\n",
      "26/26 [==============================] - 1s 46ms/step - loss: 0.3430 - accuracy: 0.9877 - top-5-accuracy: 1.0000 - val_loss: 0.5247 - val_accuracy: 0.8753 - val_top-5-accuracy: 1.0000\n",
      "Epoch 31/100\n",
      "26/26 [==============================] - 1s 46ms/step - loss: 0.3390 - accuracy: 0.9898 - top-5-accuracy: 1.0000 - val_loss: 0.5410 - val_accuracy: 0.8835 - val_top-5-accuracy: 1.0000\n",
      "Epoch 32/100\n",
      "26/26 [==============================] - 1s 54ms/step - loss: 0.3436 - accuracy: 0.9880 - top-5-accuracy: 1.0000 - val_loss: 0.5084 - val_accuracy: 0.8970 - val_top-5-accuracy: 1.0000\n",
      "Epoch 33/100\n",
      "26/26 [==============================] - 1s 57ms/step - loss: 0.3467 - accuracy: 0.9877 - top-5-accuracy: 1.0000 - val_loss: 0.5404 - val_accuracy: 0.8997 - val_top-5-accuracy: 1.0000\n",
      "Epoch 34/100\n",
      "26/26 [==============================] - 1s 55ms/step - loss: 0.3470 - accuracy: 0.9874 - top-5-accuracy: 1.0000 - val_loss: 0.5128 - val_accuracy: 0.9024 - val_top-5-accuracy: 1.0000\n",
      "Epoch 35/100\n",
      "26/26 [==============================] - 1s 48ms/step - loss: 0.3449 - accuracy: 0.9864 - top-5-accuracy: 1.0000 - val_loss: 0.5297 - val_accuracy: 0.8889 - val_top-5-accuracy: 1.0000\n",
      "Epoch 36/100\n",
      "26/26 [==============================] - 1s 47ms/step - loss: 0.3449 - accuracy: 0.9892 - top-5-accuracy: 1.0000 - val_loss: 0.5255 - val_accuracy: 0.8780 - val_top-5-accuracy: 1.0000\n",
      "Epoch 37/100\n",
      "26/26 [==============================] - 1s 47ms/step - loss: 0.3412 - accuracy: 0.9913 - top-5-accuracy: 1.0000 - val_loss: 0.5177 - val_accuracy: 0.8943 - val_top-5-accuracy: 1.0000\n",
      "Epoch 38/100\n",
      "26/26 [==============================] - 1s 47ms/step - loss: 0.3418 - accuracy: 0.9861 - top-5-accuracy: 1.0000 - val_loss: 0.5055 - val_accuracy: 0.9079 - val_top-5-accuracy: 1.0000\n",
      "Epoch 39/100\n",
      "26/26 [==============================] - 1s 46ms/step - loss: 0.3389 - accuracy: 0.9904 - top-5-accuracy: 1.0000 - val_loss: 0.4843 - val_accuracy: 0.9160 - val_top-5-accuracy: 1.0000\n",
      "Epoch 40/100\n",
      "26/26 [==============================] - 1s 47ms/step - loss: 0.3367 - accuracy: 0.9904 - top-5-accuracy: 1.0000 - val_loss: 0.5503 - val_accuracy: 0.8943 - val_top-5-accuracy: 1.0000\n",
      "Epoch 41/100\n",
      "26/26 [==============================] - 1s 47ms/step - loss: 0.3432 - accuracy: 0.9910 - top-5-accuracy: 1.0000 - val_loss: 0.5238 - val_accuracy: 0.8835 - val_top-5-accuracy: 1.0000\n",
      "Epoch 42/100\n",
      "26/26 [==============================] - 1s 47ms/step - loss: 0.3407 - accuracy: 0.9895 - top-5-accuracy: 1.0000 - val_loss: 0.4994 - val_accuracy: 0.8943 - val_top-5-accuracy: 1.0000\n",
      "Epoch 43/100\n",
      "26/26 [==============================] - 1s 54ms/step - loss: 0.3378 - accuracy: 0.9916 - top-5-accuracy: 1.0000 - val_loss: 0.5077 - val_accuracy: 0.9024 - val_top-5-accuracy: 1.0000\n",
      "Epoch 44/100\n",
      "26/26 [==============================] - 1s 58ms/step - loss: 0.3354 - accuracy: 0.9934 - top-5-accuracy: 1.0000 - val_loss: 0.5058 - val_accuracy: 0.9024 - val_top-5-accuracy: 1.0000\n",
      "Epoch 45/100\n",
      "26/26 [==============================] - 1s 56ms/step - loss: 0.3361 - accuracy: 0.9901 - top-5-accuracy: 1.0000 - val_loss: 0.5215 - val_accuracy: 0.8889 - val_top-5-accuracy: 1.0000\n",
      "Epoch 46/100\n",
      "26/26 [==============================] - 1s 47ms/step - loss: 0.3419 - accuracy: 0.9871 - top-5-accuracy: 1.0000 - val_loss: 0.5249 - val_accuracy: 0.8835 - val_top-5-accuracy: 1.0000\n",
      "Epoch 47/100\n",
      "26/26 [==============================] - 1s 47ms/step - loss: 0.3366 - accuracy: 0.9904 - top-5-accuracy: 1.0000 - val_loss: 0.4950 - val_accuracy: 0.9051 - val_top-5-accuracy: 1.0000\n",
      "Epoch 48/100\n",
      "26/26 [==============================] - 1s 46ms/step - loss: 0.3366 - accuracy: 0.9904 - top-5-accuracy: 1.0000 - val_loss: 0.5007 - val_accuracy: 0.8997 - val_top-5-accuracy: 1.0000\n",
      "Epoch 49/100\n",
      "26/26 [==============================] - 1s 47ms/step - loss: 0.3357 - accuracy: 0.9913 - top-5-accuracy: 1.0000 - val_loss: 0.5096 - val_accuracy: 0.8780 - val_top-5-accuracy: 1.0000\n",
      "Epoch 50/100\n",
      "26/26 [==============================] - 1s 46ms/step - loss: 0.3333 - accuracy: 0.9907 - top-5-accuracy: 1.0000 - val_loss: 0.5024 - val_accuracy: 0.9051 - val_top-5-accuracy: 1.0000\n",
      "Epoch 51/100\n",
      "26/26 [==============================] - 1s 46ms/step - loss: 0.3340 - accuracy: 0.9913 - top-5-accuracy: 1.0000 - val_loss: 0.5047 - val_accuracy: 0.8970 - val_top-5-accuracy: 1.0000\n",
      "Epoch 52/100\n",
      "26/26 [==============================] - 1s 47ms/step - loss: 0.3364 - accuracy: 0.9916 - top-5-accuracy: 1.0000 - val_loss: 0.4973 - val_accuracy: 0.8997 - val_top-5-accuracy: 1.0000\n",
      "Epoch 53/100\n",
      "26/26 [==============================] - 1s 46ms/step - loss: 0.3309 - accuracy: 0.9937 - top-5-accuracy: 1.0000 - val_loss: 0.4967 - val_accuracy: 0.9024 - val_top-5-accuracy: 1.0000\n",
      "Epoch 54/100\n",
      "26/26 [==============================] - 1s 58ms/step - loss: 0.3362 - accuracy: 0.9898 - top-5-accuracy: 1.0000 - val_loss: 0.5074 - val_accuracy: 0.8889 - val_top-5-accuracy: 1.0000\n",
      "Epoch 55/100\n",
      "26/26 [==============================] - 2s 61ms/step - loss: 0.3376 - accuracy: 0.9913 - top-5-accuracy: 1.0000 - val_loss: 0.5037 - val_accuracy: 0.8862 - val_top-5-accuracy: 1.0000\n",
      "Epoch 56/100\n",
      "26/26 [==============================] - 1s 51ms/step - loss: 0.3335 - accuracy: 0.9916 - top-5-accuracy: 1.0000 - val_loss: 0.5136 - val_accuracy: 0.8943 - val_top-5-accuracy: 1.0000\n",
      "Epoch 57/100\n",
      "26/26 [==============================] - 1s 47ms/step - loss: 0.3380 - accuracy: 0.9901 - top-5-accuracy: 1.0000 - val_loss: 0.4940 - val_accuracy: 0.8970 - val_top-5-accuracy: 1.0000\n",
      "Epoch 58/100\n",
      "26/26 [==============================] - 1s 48ms/step - loss: 0.3333 - accuracy: 0.9913 - top-5-accuracy: 1.0000 - val_loss: 0.5202 - val_accuracy: 0.8808 - val_top-5-accuracy: 1.0000\n",
      "Epoch 59/100\n",
      "26/26 [==============================] - 1s 48ms/step - loss: 0.3356 - accuracy: 0.9895 - top-5-accuracy: 1.0000 - val_loss: 0.4978 - val_accuracy: 0.8970 - val_top-5-accuracy: 1.0000\n",
      "Epoch 60/100\n",
      "26/26 [==============================] - 1s 48ms/step - loss: 0.3335 - accuracy: 0.9904 - top-5-accuracy: 1.0000 - val_loss: 0.4882 - val_accuracy: 0.9024 - val_top-5-accuracy: 1.0000\n",
      "Epoch 61/100\n",
      "26/26 [==============================] - 1s 47ms/step - loss: 0.3338 - accuracy: 0.9898 - top-5-accuracy: 1.0000 - val_loss: 0.5268 - val_accuracy: 0.8862 - val_top-5-accuracy: 1.0000\n",
      "Epoch 62/100\n",
      "26/26 [==============================] - 1s 47ms/step - loss: 0.3340 - accuracy: 0.9913 - top-5-accuracy: 1.0000 - val_loss: 0.4994 - val_accuracy: 0.8970 - val_top-5-accuracy: 1.0000\n",
      "Epoch 63/100\n",
      "26/26 [==============================] - 1s 52ms/step - loss: 0.3342 - accuracy: 0.9904 - top-5-accuracy: 1.0000 - val_loss: 0.5153 - val_accuracy: 0.9024 - val_top-5-accuracy: 1.0000\n",
      "Epoch 64/100\n",
      "26/26 [==============================] - 1s 49ms/step - loss: 0.3368 - accuracy: 0.9901 - top-5-accuracy: 1.0000 - val_loss: 0.5139 - val_accuracy: 0.8916 - val_top-5-accuracy: 1.0000\n",
      "Epoch 65/100\n",
      "26/26 [==============================] - 1s 55ms/step - loss: 0.3302 - accuracy: 0.9928 - top-5-accuracy: 1.0000 - val_loss: 0.4885 - val_accuracy: 0.8997 - val_top-5-accuracy: 1.0000\n",
      "Epoch 66/100\n",
      "26/26 [==============================] - 2s 59ms/step - loss: 0.3346 - accuracy: 0.9901 - top-5-accuracy: 1.0000 - val_loss: 0.5014 - val_accuracy: 0.8916 - val_top-5-accuracy: 1.0000\n",
      "Epoch 67/100\n",
      "26/26 [==============================] - 1s 49ms/step - loss: 0.3323 - accuracy: 0.9907 - top-5-accuracy: 1.0000 - val_loss: 0.5398 - val_accuracy: 0.8862 - val_top-5-accuracy: 1.0000\n",
      "Epoch 68/100\n",
      "26/26 [==============================] - 1s 47ms/step - loss: 0.3318 - accuracy: 0.9907 - top-5-accuracy: 1.0000 - val_loss: 0.4999 - val_accuracy: 0.8916 - val_top-5-accuracy: 1.0000\n",
      "Epoch 69/100\n",
      "26/26 [==============================] - 1s 47ms/step - loss: 0.3360 - accuracy: 0.9901 - top-5-accuracy: 1.0000 - val_loss: 0.5152 - val_accuracy: 0.8862 - val_top-5-accuracy: 1.0000\n",
      "Epoch 70/100\n",
      "26/26 [==============================] - 1s 47ms/step - loss: 0.3398 - accuracy: 0.9907 - top-5-accuracy: 1.0000 - val_loss: 0.5213 - val_accuracy: 0.8808 - val_top-5-accuracy: 1.0000\n",
      "Epoch 71/100\n",
      "26/26 [==============================] - 1s 47ms/step - loss: 0.3321 - accuracy: 0.9907 - top-5-accuracy: 1.0000 - val_loss: 0.4885 - val_accuracy: 0.8943 - val_top-5-accuracy: 1.0000\n",
      "Epoch 72/100\n",
      "26/26 [==============================] - 1s 48ms/step - loss: 0.3287 - accuracy: 0.9916 - top-5-accuracy: 1.0000 - val_loss: 0.4973 - val_accuracy: 0.9051 - val_top-5-accuracy: 1.0000\n",
      "Epoch 73/100\n",
      "26/26 [==============================] - 1s 46ms/step - loss: 0.3293 - accuracy: 0.9931 - top-5-accuracy: 1.0000 - val_loss: 0.5150 - val_accuracy: 0.8862 - val_top-5-accuracy: 1.0000\n",
      "Epoch 74/100\n",
      "26/26 [==============================] - 1s 47ms/step - loss: 0.3291 - accuracy: 0.9928 - top-5-accuracy: 1.0000 - val_loss: 0.5060 - val_accuracy: 0.8916 - val_top-5-accuracy: 1.0000\n",
      "Epoch 75/100\n",
      "26/26 [==============================] - 1s 51ms/step - loss: 0.3288 - accuracy: 0.9934 - top-5-accuracy: 1.0000 - val_loss: 0.5097 - val_accuracy: 0.8997 - val_top-5-accuracy: 1.0000\n",
      "Epoch 76/100\n",
      "26/26 [==============================] - 1s 55ms/step - loss: 0.3274 - accuracy: 0.9922 - top-5-accuracy: 1.0000 - val_loss: 0.5188 - val_accuracy: 0.8916 - val_top-5-accuracy: 1.0000\n",
      "Epoch 77/100\n",
      "26/26 [==============================] - 1s 54ms/step - loss: 0.3326 - accuracy: 0.9928 - top-5-accuracy: 1.0000 - val_loss: 0.5120 - val_accuracy: 0.8997 - val_top-5-accuracy: 1.0000\n",
      "Epoch 78/100\n",
      "26/26 [==============================] - 1s 49ms/step - loss: 0.3321 - accuracy: 0.9898 - top-5-accuracy: 1.0000 - val_loss: 0.5286 - val_accuracy: 0.8889 - val_top-5-accuracy: 1.0000\n",
      "Epoch 79/100\n",
      "26/26 [==============================] - 1s 47ms/step - loss: 0.3301 - accuracy: 0.9922 - top-5-accuracy: 1.0000 - val_loss: 0.5131 - val_accuracy: 0.8862 - val_top-5-accuracy: 1.0000\n",
      "Epoch 80/100\n",
      "26/26 [==============================] - 1s 46ms/step - loss: 0.3286 - accuracy: 0.9910 - top-5-accuracy: 1.0000 - val_loss: 0.5122 - val_accuracy: 0.8943 - val_top-5-accuracy: 1.0000\n",
      "Epoch 81/100\n",
      "26/26 [==============================] - 1s 47ms/step - loss: 0.3275 - accuracy: 0.9937 - top-5-accuracy: 1.0000 - val_loss: 0.4918 - val_accuracy: 0.8862 - val_top-5-accuracy: 1.0000\n",
      "Epoch 82/100\n",
      "26/26 [==============================] - 1s 47ms/step - loss: 0.3304 - accuracy: 0.9928 - top-5-accuracy: 1.0000 - val_loss: 0.5208 - val_accuracy: 0.9024 - val_top-5-accuracy: 1.0000\n",
      "Epoch 83/100\n",
      "26/26 [==============================] - 1s 47ms/step - loss: 0.3342 - accuracy: 0.9895 - top-5-accuracy: 1.0000 - val_loss: 0.4980 - val_accuracy: 0.8997 - val_top-5-accuracy: 1.0000\n",
      "Epoch 84/100\n",
      "26/26 [==============================] - 1s 47ms/step - loss: 0.3296 - accuracy: 0.9910 - top-5-accuracy: 1.0000 - val_loss: 0.5007 - val_accuracy: 0.8916 - val_top-5-accuracy: 1.0000\n",
      "Epoch 85/100\n",
      "26/26 [==============================] - 1s 46ms/step - loss: 0.3351 - accuracy: 0.9898 - top-5-accuracy: 1.0000 - val_loss: 0.4748 - val_accuracy: 0.9051 - val_top-5-accuracy: 1.0000\n",
      "Epoch 86/100\n",
      "26/26 [==============================] - 1s 51ms/step - loss: 0.3309 - accuracy: 0.9910 - top-5-accuracy: 1.0000 - val_loss: 0.4960 - val_accuracy: 0.8916 - val_top-5-accuracy: 1.0000\n",
      "Epoch 87/100\n",
      "26/26 [==============================] - 1s 55ms/step - loss: 0.3284 - accuracy: 0.9925 - top-5-accuracy: 1.0000 - val_loss: 0.5004 - val_accuracy: 0.8808 - val_top-5-accuracy: 1.0000\n",
      "Epoch 88/100\n",
      "26/26 [==============================] - 1s 54ms/step - loss: 0.3283 - accuracy: 0.9922 - top-5-accuracy: 1.0000 - val_loss: 0.5140 - val_accuracy: 0.8862 - val_top-5-accuracy: 1.0000\n",
      "Epoch 89/100\n",
      "26/26 [==============================] - 1s 49ms/step - loss: 0.3303 - accuracy: 0.9904 - top-5-accuracy: 1.0000 - val_loss: 0.5103 - val_accuracy: 0.8997 - val_top-5-accuracy: 1.0000\n",
      "Epoch 90/100\n",
      "26/26 [==============================] - 1s 46ms/step - loss: 0.3312 - accuracy: 0.9913 - top-5-accuracy: 1.0000 - val_loss: 0.5059 - val_accuracy: 0.8970 - val_top-5-accuracy: 1.0000\n",
      "Epoch 91/100\n",
      "26/26 [==============================] - 1s 47ms/step - loss: 0.3260 - accuracy: 0.9940 - top-5-accuracy: 1.0000 - val_loss: 0.5172 - val_accuracy: 0.8862 - val_top-5-accuracy: 1.0000\n",
      "Epoch 92/100\n",
      "26/26 [==============================] - 1s 47ms/step - loss: 0.3264 - accuracy: 0.9940 - top-5-accuracy: 1.0000 - val_loss: 0.4980 - val_accuracy: 0.8916 - val_top-5-accuracy: 1.0000\n",
      "Epoch 93/100\n",
      "26/26 [==============================] - 1s 46ms/step - loss: 0.3274 - accuracy: 0.9913 - top-5-accuracy: 1.0000 - val_loss: 0.5261 - val_accuracy: 0.8889 - val_top-5-accuracy: 1.0000\n",
      "Epoch 94/100\n",
      "26/26 [==============================] - 1s 46ms/step - loss: 0.3303 - accuracy: 0.9895 - top-5-accuracy: 1.0000 - val_loss: 0.5006 - val_accuracy: 0.9106 - val_top-5-accuracy: 1.0000\n",
      "Epoch 95/100\n",
      "26/26 [==============================] - 1s 46ms/step - loss: 0.3286 - accuracy: 0.9937 - top-5-accuracy: 1.0000 - val_loss: 0.5148 - val_accuracy: 0.8916 - val_top-5-accuracy: 1.0000\n",
      "Epoch 96/100\n",
      "26/26 [==============================] - 1s 47ms/step - loss: 0.3259 - accuracy: 0.9916 - top-5-accuracy: 1.0000 - val_loss: 0.4984 - val_accuracy: 0.8997 - val_top-5-accuracy: 1.0000\n",
      "Epoch 97/100\n",
      "26/26 [==============================] - 1s 54ms/step - loss: 0.3278 - accuracy: 0.9925 - top-5-accuracy: 1.0000 - val_loss: 0.4930 - val_accuracy: 0.8997 - val_top-5-accuracy: 1.0000\n",
      "Epoch 98/100\n",
      "26/26 [==============================] - 1s 53ms/step - loss: 0.3286 - accuracy: 0.9910 - top-5-accuracy: 1.0000 - val_loss: 0.5165 - val_accuracy: 0.8970 - val_top-5-accuracy: 1.0000\n",
      "Epoch 99/100\n",
      "26/26 [==============================] - 1s 52ms/step - loss: 0.3301 - accuracy: 0.9892 - top-5-accuracy: 1.0000 - val_loss: 0.4845 - val_accuracy: 0.9079 - val_top-5-accuracy: 1.0000\n",
      "Epoch 100/100\n",
      "26/26 [==============================] - 1s 48ms/step - loss: 0.3293 - accuracy: 0.9931 - top-5-accuracy: 1.0000 - val_loss: 0.4973 - val_accuracy: 0.8970 - val_top-5-accuracy: 1.0000\n"
     ]
    }
   ],
   "source": [
    "model = keras.Model(input, output)\n",
    "model.compile(\n",
    "    loss=tf.keras.losses.CategoricalCrossentropy(label_smoothing=label_smoothing),\n",
    "   optimizer=Adam(\n",
    "        learning_rate=0.001,\n",
    "        beta_1=0.9,\n",
    "        beta_2=0.999,\n",
    "        epsilon=1e-07,\n",
    "        amsgrad=False,\n",
    "        name=\"Adam\"\n",
    "    ),\n",
    "    metrics=[\n",
    "        keras.metrics.CategoricalAccuracy(name=\"accuracy\"),\n",
    "        keras.metrics.TopKCategoricalAccuracy(5, name=\"top-5-accuracy\"),\n",
    "    ],\n",
    ")\n",
    "\n",
    "history = model.fit(\n",
    "    x_train,\n",
    "    y_train,\n",
    "    batch_size=batch_size,\n",
    "    epochs=num_epochs,\n",
    "    validation_split=validation_split,\n",
    ")\n",
    "\n",
    "\n",
    "\n"
   ]
  },
  {
   "cell_type": "code",
   "execution_count": null,
   "metadata": {
    "colab": {
     "base_uri": "https://localhost:8080/",
     "height": 627
    },
    "id": "bJd4puHmx15q",
    "outputId": "b0c3fdfb-2d45-464b-d4e9-9d6becb991ab"
   },
   "outputs": [
    {
     "data": {
      "image/png": "[encoded data removed]",
      "text/plain": [
       "<Figure size 1200x600 with 2 Axes>"
      ]
     },
     "metadata": {},
     "output_type": "display_data"
    }
   ],
   "source": [
    "import matplotlib.pyplot as plt\n",
    "\n",
    "# Assuming you have already trained the model and have the 'history' object.\n",
    "\n",
    "# Plot training & validation accuracy values\n",
    "plt.figure(figsize=(12, 6))\n",
    "plt.subplot(1, 2, 1)\n",
    "plt.plot(history.history['accuracy'], label='Training Accuracy')\n",
    "plt.plot(history.history['val_accuracy'], label='Validation Accuracy')\n",
    "plt.title('Training and Validation Accuracy')\n",
    "plt.xlabel('Epoch')\n",
    "plt.ylabel('Accuracy')\n",
    "plt.legend()\n",
    "\n",
    "# Plot training & validation loss values\n",
    "plt.subplot(1, 2, 2)\n",
    "plt.plot(history.history['loss'], label='Training Loss')\n",
    "plt.plot(history.history['val_loss'], label='Validation Loss')\n",
    "plt.title('Training and Validation Loss')\n",
    "plt.xlabel('Epoch')\n",
    "plt.ylabel('Loss')\n",
    "plt.legend()\n",
    "\n",
    "plt.tight_layout()\n",
    "plt.show()\n"
   ]
  },
  {
   "cell_type": "code",
   "execution_count": null,
   "metadata": {
    "id": "qi7geblzOIYG"
   },
   "outputs": [],
   "source": []
  },
  {
   "cell_type": "code",
   "execution_count": null,
   "metadata": {
    "id": "aqnSP2LAOIbP"
   },
   "outputs": [],
   "source": []
  },
  {
   "cell_type": "code",
   "execution_count": null,
   "metadata": {
    "id": "eUYoFx85OIeX"
   },
   "outputs": [],
   "source": []
  },
  {
   "cell_type": "code",
   "execution_count": null,
   "metadata": {
    "id": "yJoJ181WOIh2"
   },
   "outputs": [],
   "source": [
    "# Define per-fold score containers\n",
    "acc_per_fold = []\n",
    "loss_per_fold = []"
   ]
  },
  {
   "cell_type": "code",
   "execution_count": null,
   "metadata": {
    "id": "L_HnYQ1jOIkO"
   },
   "outputs": [],
   "source": [
    "from sklearn.model_selection import KFold"
   ]
  },
  {
   "cell_type": "code",
   "execution_count": null,
   "metadata": {
    "id": "DSFnkYb9OFUy"
   },
   "outputs": [],
   "source": [
    "def run_experiment(model, x_train, y_train, x_test, y_test):\n",
    "    optimizer = tfa.optimizers.AdamW(\n",
    "        learning_rate=learning_rate, weight_decay=weight_decay\n",
    "    )\n",
    "\n",
    "    model.compile(\n",
    "        optimizer=optimizer,\n",
    "        loss=keras.losses.SparseCategoricalCrossentropy(from_logits=True),\n",
    "        metrics=[\n",
    "            keras.metrics.SparseCategoricalAccuracy(name=\"accuracy\"),\n",
    "            keras.metrics.SparseTopKCategoricalAccuracy(5, name=\"top-5-accuracy\"),\n",
    "        ],\n",
    "    )\n",
    "\n",
    "    checkpoint_filepath = \"model.h5\"\n",
    "    checkpoint_callback = keras.callbacks.ModelCheckpoint(\n",
    "        checkpoint_filepath,\n",
    "        monitor=\"val_accuracy\",\n",
    "        save_best_only=True,\n",
    "        save_weights_only=True,\n",
    "    )\n",
    "\n",
    "    history = model.fit(\n",
    "        x=x_train,\n",
    "        y=y_train,\n",
    "        batch_size=batch_size,\n",
    "        epochs=num_epochs,\n",
    "        validation_split=0.15,\n",
    "        callbacks=[checkpoint_callback],\n",
    "    )\n",
    "\n",
    "    model.load_weights(checkpoint_filepath)\n",
    "    _, accuracy, top_5_accuracy = model.evaluate(x_test, y_test)\n",
    "    print(f\"Test accuracy: {round(accuracy * 100, 2)}%\")\n",
    "    print(f\"Test top 5 accuracy: {round(top_5_accuracy * 100, 2)}%\")\n",
    "\n",
    "    # acc_per_fold.append(accuracy[1] * 100)\n",
    "    # loss_per_fold.append(accuracy[0])\n",
    "\n",
    "    acc_per_fold.append(accuracy * 100)\n",
    "    loss_per_fold.append(accuracy)  # Note: Change 'accuracy' to 'loss' if that's your intention\n",
    "\n",
    "\n",
    "\n",
    "\n",
    "\n",
    "\n",
    "\n",
    "\n",
    "\n",
    "    # Get predictions\n",
    "    ypred = model.predict(x_test, verbose=1)\n",
    "    ypred = np.argmax(ypred, axis=1)\n",
    "\n",
    "    target_names = labels = [\"Black Spot\", \"Downy mildew\",\"Fresh Leaf\"]\n",
    "    print(classification_report(y_test, ypred, target_names=target_names))\n",
    "\n",
    "    cm = confusion_matrix(y_test, ypred)\n",
    "    cm = pd.DataFrame(cm, range(3), range(3))\n",
    "    plt.figure(figsize=(10, 10))\n",
    "    sns.heatmap(cm, annot=True, annot_kws={\"size\": 12})\n",
    "    plt.show()\n",
    "\n",
    "    plt.plot(history.history['accuracy'])\n",
    "    plt.plot(history.history['val_accuracy'])\n",
    "    plt.title('model accuracy')\n",
    "    plt.ylabel('accuracy')\n",
    "    plt.xlabel('epoch')\n",
    "    plt.legend(['train', 'test'], loc='lower right')\n",
    "    plt.show()\n",
    "\n",
    "    plt.plot(history.history['loss'])\n",
    "    plt.plot(history.history['val_loss'])\n",
    "    plt.title('model loss')\n",
    "    plt.ylabel('loss')\n",
    "    plt.xlabel('epoch')\n",
    "    plt.legend(['train', 'test'], loc='upper right')\n",
    "    plt.show()\n",
    "\n",
    "    return history\n",
    "\n",
    "# Assuming you have loaded your data before this point\n",
    "kf = KFold(n_splits=10, shuffle=True)\n",
    "\n",
    "for fold_no, (train_idx, test_idx) in enumerate(kf.split(x_train, y_train), start=1):\n",
    "    print('------------------------------------------------------------------------')\n",
    "    print(f'Training for fold {fold_no} ...')\n",
    "\n",
    "    x_fold_train, y_fold_train = x_train[train_idx], y_train[train_idx]\n",
    "    x_fold_test, y_fold_test = x_train[test_idx], y_train[test_idx]\n",
    "\n",
    "    vit_classifier = create_vit_classifier()  # Create a new model for each fold\n",
    "    history = run_experiment(vit_classifier, x_fold_train, y_fold_train, x_fold_test, y_fold_test)"
   ]
  },
  {
   "cell_type": "code",
   "execution_count": null,
   "metadata": {
    "id": "a5MxILbLOFXe"
   },
   "outputs": [],
   "source": []
  },
  {
   "cell_type": "code",
   "execution_count": null,
   "metadata": {
    "id": "03xVi_g8OFaU"
   },
   "outputs": [],
   "source": []
  }
 ],
 "metadata": {
  "accelerator": "GPU",
  "colab": {
   "gpuType": "T4",
   "provenance": []
  },
  "kernelspec": {
   "display_name": "Python 3 (ipykernel)",
   "language": "python",
   "name": "python3"
  },
  "language_info": {
   "codemirror_mode": {
    "name": "ipython",
    "version": 3
   },
   "file_extension": ".py",
   "mimetype": "text/x-python",
   "name": "python",
   "nbconvert_exporter": "python",
   "pygments_lexer": "ipython3",
   "version": "3.9.13"
  }
 },
 "nbformat": 4,
 "nbformat_minor": 1
}
